{
 "cells": [
  {
   "cell_type": "markdown",
   "id": "849eebfa",
   "metadata": {},
   "source": [
    "We begin by implementing Newton's method. The test function we are using is the Rosenbrock function in three variables, which is implemented along with functions to evaluate the gradient and hessian of the function."
   ]
  },
  {
   "cell_type": "code",
   "execution_count": 1,
   "id": "6f4d0bfa",
   "metadata": {},
   "outputs": [],
   "source": [
    "# Importing Dependencies\n",
    "import numpy as np\n",
    "from mpl_toolkits.mplot3d import Axes3D\n",
    "import matplotlib.pyplot as plt\n",
    "import math"
   ]
  },
  {
   "cell_type": "code",
   "execution_count": 2,
   "id": "043821a8",
   "metadata": {},
   "outputs": [
    {
     "name": "stdout",
     "output_type": "stream",
     "text": [
      "0\n",
      "[0. 0. 0.]\n",
      "[[ 802. -400.    0.]\n",
      " [-400. 1002. -400.]\n",
      " [   0. -400.  200.]]\n"
     ]
    }
   ],
   "source": [
    "def test_func(x):\n",
    "    return x[0]**2 + x[1]**2 + x[2]**2\n",
    "\n",
    "def grad_test_func(x):\n",
    "    return np.array([2*x[0], 2*x[1], 2*x[2]])\n",
    "\n",
    "def hess_test_func(x):\n",
    "    return np.array([[2, 0, 0],\n",
    "                     [0, 2, 0],\n",
    "                     [0, 0, 2]])\n",
    "\n",
    "'''\n",
    "Rosenbrock function takes an input vector x and returns\n",
    "the evalutation\n",
    "'''\n",
    "def rosenbrock(x):\n",
    "    N = len(x)\n",
    "    sum = 0\n",
    "    \n",
    "    for i in range(N-1):\n",
    "        sum += 100 * (x[i+1] - x[i]**2)**2 + (1 - x[i])**2\n",
    "        \n",
    "    return sum\n",
    "\n",
    "'''\n",
    "Returns the gradient of the Rosenbrock function in 3 variables at x\n",
    "'''\n",
    "def grad_rosenbrock_3D(x):\n",
    "    grad = np.zeros(3)\n",
    "    grad[0] = -400 * x[0] * (-x[0]**2 + x[1]) + 2 * (x[0] - 1) \n",
    "    grad[1] = -400 * x[1] * (-x[1]**2 + x[2]) + 200 * (x[1] - x[0]**2) + 2 * (x[1] - 1)\n",
    "    grad[2] = 200 * (-x[1]**2 + x[2])\n",
    "    return grad\n",
    "\n",
    "\n",
    "'''\n",
    "Returns the hessian of the Rosenbrock function in 3 variables at x\n",
    "'''\n",
    "def hess_rosenbrock_3D(x):\n",
    "    hess = np.zeros((3,3))\n",
    "    hess[0, 0] = 1200*x[0]**2 - 400*x[1] + 2\n",
    "    hess[0, 1] = -400*x[0]\n",
    "    hess[1, 0] = -400*x[0]\n",
    "    hess[1, 1] = 1200*x[1]**2 - 400*x[2] + 202\n",
    "    hess[1, 2] = -400*x[1]\n",
    "    hess[2, 1] = -400*x[1]\n",
    "    hess[2, 2] = 200\n",
    "    return hess\n",
    "\n",
    "\n",
    "x = [1, 1, 1]\n",
    "print(rosenbrock(x))\n",
    "print(grad_rosenbrock_3D(x))\n",
    "print(hess_rosenbrock_3D(x))"
   ]
  },
  {
   "cell_type": "markdown",
   "id": "e4685191",
   "metadata": {},
   "source": [
    "As a starting point, we'll use gradient descent:"
   ]
  },
  {
   "cell_type": "code",
   "execution_count": 3,
   "id": "6e743e9c",
   "metadata": {},
   "outputs": [],
   "source": [
    "def wolfe_conditions(x, f, grad, p, alpha=1.0, c1=0.25, c2=0.75, max_iters=100):\n",
    "    # initialize variables\n",
    "    t = 1.0\n",
    "    fx = f(x)\n",
    "    gxp = grad(x).dot(p)\n",
    "    \n",
    "    # loop until condition is satisfied or max iterations reached\n",
    "    for i in range(max_iters):\n",
    "        if f(x + t * p) > fx + c1 * t * gxp:\n",
    "            t /= 2.0\n",
    "        elif grad(x + t * p).dot(p) < c2 * gxp:\n",
    "            t *= 2.0\n",
    "        else:\n",
    "            break\n",
    "            \n",
    "    return t"
   ]
  },
  {
   "cell_type": "code",
   "execution_count": 4,
   "id": "3714e4a0",
   "metadata": {},
   "outputs": [],
   "source": [
    "'''\n",
    "Gradient Descent\n",
    "    Inputs:\n",
    "    x0 - Initial guess vector\n",
    "    f - Function to be minimized\n",
    "    grad - Evaluates the gradient of function f at x\n",
    "    tol - Arbitrary tolerance for convergence\n",
    "    Nmax - Maximum number of iterations\n",
    "\n",
    "    Returns:\n",
    "    tuple containing sequence of iterates, errors, and \n",
    "'''\n",
    "def gradient_descent(x0, f, grad, tol=1e-6, Nmax=1000):\n",
    "    \n",
    "    x = x0.copy()\n",
    "    x_seq = np.zeros((Nmax+1, len(x0)))\n",
    "    x_seq[0] = x\n",
    "    n = 0\n",
    "    \n",
    "    while n < Nmax:\n",
    "        \n",
    "        g = grad(x)\n",
    "\n",
    "        p = - g/np.linalg.norm(g)\n",
    "        \n",
    "        t = wolfe_conditions(x, f, grad, p)\n",
    "        \n",
    "        x1 = x + t * p\n",
    "        \n",
    "        \n",
    "        x_seq[n+1] = x1\n",
    "        \n",
    "        if np.linalg.norm(x) < tol:\n",
    "            return x, x_seq, n\n",
    "        elif np.linalg.norm(x) > 1e10:\n",
    "            return math.nan, None, None\n",
    "        \n",
    "        x = x1\n",
    "\n",
    "        n += 1\n",
    "        \n",
    "    print(\"Max iterations reached\")\n",
    "    return x, x_seq, n"
   ]
  },
  {
   "cell_type": "markdown",
   "id": "92ee7a95",
   "metadata": {},
   "source": [
    "Now, we can implement gradient descent and Newton's method:"
   ]
  },
  {
   "cell_type": "code",
   "execution_count": 68,
   "id": "0f542956",
   "metadata": {},
   "outputs": [],
   "source": [
    "'''\n",
    "Newton Descent\n",
    "    Inputs:\n",
    "    x0 - Initial guess vector\n",
    "    f - Function to be minimized\n",
    "    grad - Evaluates the gradient of function f at x\n",
    "    hess - Evaluates the hessian of f at x\n",
    "    tol - Arbitrary tolerance for convergence\n",
    "    Nmax - Maximum number of iterations\n",
    "\n",
    "    Returns:\n",
    "    tuple containing sequence of iterates, errors, and \n",
    "'''\n",
    "def newton_descent(x0, f, grad, hess, tol=1e-6, Nmax=100):\n",
    "\n",
    "    x = x0.copy()\n",
    "    x_seq = np.zeros((Nmax+1, len(x0)))\n",
    "    x_seq[0] = x\n",
    "    g_seq = np.zeros((Nmax+1, len(x0)))\n",
    "    n = 0\n",
    "\n",
    "    while n < Nmax:\n",
    "        \n",
    "        g = grad(x)\n",
    "        g_seq[n] = np.linalg.norm(g)\n",
    "        \n",
    "        H = hess(x)\n",
    "        p = -np.linalg.solve(H, g)\n",
    "        \n",
    "        t = wolfe_conditions(x, f, grad, p)\n",
    "        \n",
    "        x1 = x + t*p\n",
    "        \n",
    "        if np.linalg.norm(p) < tol:\n",
    "            return x1, x_seq, g_seq, n\n",
    "        \n",
    "        n += 1\n",
    "        \n",
    "        x_seq[n] = x1\n",
    "        \n",
    "        x = x1\n",
    "        \n",
    "    print(\"Max iterations reached\")\n",
    "    return x, x_seq, g_seq, n"
   ]
  },
  {
   "cell_type": "code",
   "execution_count": 69,
   "id": "70af706c",
   "metadata": {},
   "outputs": [
    {
     "name": "stdout",
     "output_type": "stream",
     "text": [
      "[0. 0. 0.] \n",
      " [[-1.2  1.   0.5]\n",
      " [ 0.   0.   0. ]]\n"
     ]
    }
   ],
   "source": [
    "# Let's try our test function:\n",
    "x0 = np.array([-1.2, 1, .5])\n",
    "\n",
    "# Using gradient descent:\n",
    "#x, x_seq, g_seq, its = gradient_descent(x0, test_func, grad_test_func)\n",
    "\n",
    "#print(x,\"\\n\", x_seq[:its+1])\n",
    "\n",
    "# Using Newton Descent:\n",
    "x, x_seq, g_seq, its = newton_descent(x0, test_func, grad_test_func, hess_test_func)\n",
    "\n",
    "#print(x,\"\\n\", x_seq[:its+1])"
   ]
  },
  {
   "cell_type": "code",
   "execution_count": 73,
   "id": "c0b91cde",
   "metadata": {},
   "outputs": [
    {
     "name": "stdout",
     "output_type": "stream",
     "text": [
      "[1. 1. 1.] \n",
      " [[-1.20000000e+00  1.00000000e+00  5.00000000e-01]\n",
      " [-1.05396963e+00  1.04454085e+00  1.08908171e+00]\n",
      " [-9.39212403e-01  8.70930262e-01  7.28378884e-01]\n",
      " [-8.69131332e-01  7.59593502e-01  5.64586415e-01]\n",
      " [-7.99316974e-01  6.41448209e-01  3.91299557e-01]\n",
      " [-7.02400926e-01  4.94931481e-01  2.23490019e-01]\n",
      " [-6.06485894e-01  3.70274749e-01  1.21564089e-01]\n",
      " [-4.70144728e-01  2.15118025e-01  2.22021558e-02]\n",
      " [-3.56079733e-01  1.26768076e-01  8.26443171e-03]\n",
      " [-1.91036282e-01  1.64351149e-02 -1.58061061e-02]\n",
      " [-3.72730384e-02 -1.12511628e-02 -6.39941308e-04]\n",
      " [ 9.90747778e-02 -1.00527026e-02 -2.83644464e-04]\n",
      " [ 3.17344470e-01  6.23862569e-02 -1.35535780e-03]\n",
      " [ 4.45806089e-01  1.89021455e-01  1.96926371e-02]\n",
      " [ 6.42928137e-01  3.74793304e-01  1.05958841e-01]\n",
      " [ 6.78418879e-01  4.58620432e-01  2.03305713e-01]\n",
      " [ 7.69884783e-01  5.83249763e-01  3.21134322e-01]\n",
      " [ 8.26184571e-01  6.78975163e-01  4.51843920e-01]\n",
      " [ 8.99028840e-01  8.02653418e-01  6.28956199e-01]\n",
      " [ 9.26364310e-01  8.57164333e-01  7.31759253e-01]\n",
      " [ 9.76675885e-01  9.51292218e-01  8.96096824e-01]\n",
      " [ 9.85326547e-01  9.70741512e-01  9.41960809e-01]\n",
      " [ 9.99178674e-01  9.98163757e-01  9.95578907e-01]\n",
      " [ 9.99896790e-01  9.99792699e-01  9.99582788e-01]\n",
      " [ 9.99999957e-01  9.99999903e-01  9.99999762e-01]\n",
      " [ 1.00000000e+00  1.00000000e+00  1.00000000e+00]\n",
      " [ 1.00000000e+00  1.00000000e+00  1.00000000e+00]]\n",
      "[[2.62730584e+02 2.62730584e+02 2.62730584e+02]\n",
      " [3.43603241e+01 3.43603241e+01 3.43603241e+01]\n",
      " [1.28734574e+01 1.28734574e+01 1.28734574e+01]\n",
      " [5.32506549e+00 5.32506549e+00 5.32506549e+00]\n",
      " [6.97444973e+00 6.97444973e+00 6.97444973e+00]\n",
      " [6.31250162e+00 6.31250162e+00 6.31250162e+00]\n",
      " [4.34320731e+00 4.34320731e+00 4.34320731e+00]\n",
      " [6.33049456e+00 6.33049456e+00 6.33049456e+00]\n",
      " [3.41316799e+00 3.41316799e+00 3.41316799e+00]\n",
      " [7.75636539e+00 7.75636539e+00 7.75636539e+00]\n",
      " [5.08763009e+00 5.08763009e+00 5.08763009e+00]\n",
      " [6.08106392e+00 6.08106392e+00 6.08106392e+00]\n",
      " [1.00928501e+01 1.00928501e+01 1.00928501e+01]\n",
      " [4.02714662e+00 4.02714662e+00 4.02714662e+00]\n",
      " [1.21119197e+01 1.21119197e+01 1.21119197e+01]\n",
      " [1.42467224e+00 1.42467224e+00 1.42467224e+00]\n",
      " [4.84655102e+00 4.84655102e+00 4.84655102e+00]\n",
      " [2.31034071e+00 2.31034071e+00 2.31034071e+00]\n",
      " [4.91704217e+00 4.91704217e+00 4.91704217e+00]\n",
      " [8.29420434e-01 8.29420434e-01 8.29420434e-01]\n",
      " [3.41502343e+00 3.41502343e+00 3.41502343e+00]\n",
      " [1.00589023e-01 1.00589023e-01 1.00589023e-01]\n",
      " [3.07914511e-01 3.07914511e-01 3.07914511e-01]\n",
      " [7.23444412e-04 7.23444412e-04 7.23444412e-04]\n",
      " [1.76441488e-05 1.76441488e-05 1.76441488e-05]\n",
      " [2.62150533e-12 2.62150533e-12 2.62150533e-12]]\n"
     ]
    }
   ],
   "source": [
    "# Using gradient descent:\n",
    "#gdx, gdx_seq, its = gradient_descent(x0, rosenbrock, grad_rosenbrock_3D)\n",
    "\n",
    "#print(gdx, gdx_seq[:its])\n",
    "\n",
    "x, x_seq, g_seq, its = newton_descent(x0, rosenbrock, grad_rosenbrock_3D, hess_rosenbrock_3D, tol=1e-12)\n",
    "\n",
    "#Expected root is at (1, 1, 1)\n",
    "print(x,\"\\n\", x_seq[:its+1])\n",
    "print(g_seq[0:its])"
   ]
  },
  {
   "cell_type": "markdown",
   "id": "a9ed95ad",
   "metadata": {},
   "source": [
    "We see that the gradient descent function diverges away from the root. Now, let's show the order of convergence empirically:"
   ]
  },
  {
   "cell_type": "code",
   "execution_count": 60,
   "id": "59b48c24",
   "metadata": {},
   "outputs": [
    {
     "data": {
      "image/png": "[encoded data removed]",
      "text/plain": [
       "<Figure size 432x288 with 1 Axes>"
      ]
     },
     "metadata": {
      "needs_background": "light"
     },
     "output_type": "display_data"
    }
   ],
   "source": [
    "err = np.sum(np.abs(x_seq-x),axis=1);\n",
    "plt.plot(np.arange(its),np.log10(err[0:its]), 'r--');\n",
    "plt.xlabel('Iteration')\n",
    "plt.ylabel('Log10 of Error')\n",
    "plt.show();"
   ]
  },
  {
   "cell_type": "markdown",
   "id": "63fb5297",
   "metadata": {},
   "source": [
    "#### Lazy Newton:\n",
    "So, Newton worked pretty well. Now let's see how Lazy Newton compares:"
   ]
  },
  {
   "cell_type": "code",
   "execution_count": 9,
   "id": "61d2c9fb",
   "metadata": {},
   "outputs": [],
   "source": [
    "'''\n",
    "Lazy Newton\n",
    "    Instead of computing the Hessian on each iterate, we only\n",
    "    compute it once and use that at each step.\n",
    "\n",
    "    Inputs:\n",
    "    x0 - Initial guess vector\n",
    "    f - Function to be minimized\n",
    "    grad - Evaluates the gradient of function f at x\n",
    "    hess - Evaluates the hessian of f at x\n",
    "    tol - Arbitrary tolerance for convergence\n",
    "    Nmax - Maximum number of iterations\n",
    "\n",
    "    Returns:\n",
    "    tuple containing sequence of iterates, errors, and \n",
    "'''\n",
    "def lazy_newton(x0, f, grad, hess, tol=1e-6, Nmax=100):\n",
    "    \n",
    "    x = x0.copy()\n",
    "    x_seq = np.zeros((Nmax+1, len(x0)))\n",
    "    x_seq[0] = x\n",
    "    n = 0\n",
    "    \n",
    "    H = hess(x) # Computing the initial Hessian\n",
    "    \n",
    "    while n < Nmax:\n",
    "        \n",
    "        g = grad(x)\n",
    "        \n",
    "        # For Slacker Newton, update Hessian every few iterations\n",
    "#         if n % 4 == 0:\n",
    "#             H = hess(x)\n",
    "        \n",
    "        p = -np.linalg.solve(H, g)\n",
    "        \n",
    "        t = wolfe_conditions(x, f, grad, p)\n",
    "        \n",
    "        x1 = x + t * p\n",
    "        \n",
    "        x_seq[n+1] = x1 \n",
    "        \n",
    "        if np.linalg.norm(p) < tol:\n",
    "            return x, x_seq, n\n",
    "        \n",
    "        n += 1\n",
    "        \n",
    "        x = x1\n",
    "        \n",
    "    print(\"Max iterations reached\")\n",
    "    return x, x_seq, n"
   ]
  },
  {
   "cell_type": "code",
   "execution_count": 10,
   "id": "3d5cecb8",
   "metadata": {},
   "outputs": [
    {
     "name": "stdout",
     "output_type": "stream",
     "text": [
      "Max iterations reached\n",
      "[1. 1. 1.]\n"
     ]
    },
    {
     "data": {
      "text/plain": [
       "Text(0, 0.5, 'Log10 of Error')"
      ]
     },
     "execution_count": 10,
     "metadata": {},
     "output_type": "execute_result"
    },
    {
     "data": {
      "image/png": "[encoded data removed]",
      "text/plain": [
       "<Figure size 432x288 with 1 Axes>"
      ]
     },
     "metadata": {
      "needs_background": "light"
     },
     "output_type": "display_data"
    }
   ],
   "source": [
    "lx, lx_seq, lits = lazy_newton(x0, rosenbrock, grad_rosenbrock_3D, hess_rosenbrock_3D)\n",
    "\n",
    "print(x)\n",
    "\n",
    "lerr = np.sum(np.abs(lx_seq-x),axis=1);\n",
    "plt.plot(np.arange(100), np.log10(lerr[0:100]), 'y--', np.log10(err[0:its]), 'r--')\n",
    "plt.legend(['Lazy Newton', 'Newton'])\n",
    "plt.xlabel('Iteration')\n",
    "plt.ylabel('Log10 of Error')\n",
    "#plt.show();"
   ]
  },
  {
   "cell_type": "code",
   "execution_count": 11,
   "id": "cb5cab27",
   "metadata": {},
   "outputs": [],
   "source": [
    "def slacker_newton(x0, f, grad, hess, tol=1e-12, Nmax=100):\n",
    "    \n",
    "    x = x0.copy()\n",
    "    x_seq = np.zeros((Nmax+1, len(x0)))\n",
    "    x_seq[0] = x\n",
    "    n = 1\n",
    "    \n",
    "    H = hess(x) # Computing the initial Hessian\n",
    "    h_count = 0\n",
    "    \n",
    "    while n < Nmax:\n",
    "        \n",
    "        g = grad(x)\n",
    "        \n",
    "        # For Slacker Newton, update Hessian based on norm condition:\n",
    "        \n",
    "        if n % 5 == 0:\n",
    "            H = hess(x)\n",
    "            h_count += 1\n",
    "        \n",
    "        p = -np.linalg.solve(H, g)\n",
    "        \n",
    "        t = wolfe_conditions(x, f, grad, p)\n",
    "        \n",
    "        x1 = x + t * p\n",
    "        \n",
    "        x_seq[n] = x1 \n",
    "        \n",
    "        if np.linalg.norm(g) < tol:\n",
    "            return x, x_seq, n, h_count\n",
    "        \n",
    "        n += 1\n",
    "        \n",
    "        x = x1\n",
    "        \n",
    "    print(\"Max iterations reached\")\n",
    "    return x, x_seq, n, h_count"
   ]
  },
  {
   "cell_type": "code",
   "execution_count": 12,
   "id": "00813cfb",
   "metadata": {},
   "outputs": [
    {
     "name": "stdout",
     "output_type": "stream",
     "text": [
      "15\n"
     ]
    },
    {
     "data": {
      "text/plain": [
       "Text(0, 0.5, 'Log10 of Error')"
      ]
     },
     "execution_count": 12,
     "metadata": {},
     "output_type": "execute_result"
    },
    {
     "data": {
      "image/png": "[encoded data removed]",
      "text/plain": [
       "<Figure size 432x288 with 1 Axes>"
      ]
     },
     "metadata": {
      "needs_background": "light"
     },
     "output_type": "display_data"
    }
   ],
   "source": [
    "slx, slx_seq, sl_its, h_count = slacker_newton(x0, rosenbrock, grad_rosenbrock_3D, hess_rosenbrock_3D, tol=1e-12)\n",
    "\n",
    "print(h_count)\n",
    "\n",
    "slerr = np.sum(np.abs(slx_seq-x),axis=1);\n",
    "plt.plot(np.arange(100), np.log10(lerr[0:100]), 'y--', np.log10(err[0:its]), 'r--', np.log10(slerr[0:sl_its]), 'C2--')\n",
    "plt.legend(['Lazy Newton', 'Newton', 'Slacker Newton'])\n",
    "plt.xlabel('Iteration')\n",
    "plt.ylabel('Log10 of Error')"
   ]
  },
  {
   "cell_type": "markdown",
   "id": "c8bb74f5",
   "metadata": {},
   "source": [
    "Time to implement Broyden."
   ]
  },
  {
   "cell_type": "code",
   "execution_count": 32,
   "id": "36e41d22",
   "metadata": {},
   "outputs": [],
   "source": [
    "def BFGS(x0, f, grad, hess, tol=1e-6, Nmax=100):\n",
    "    \n",
    "    x = x0.copy()\n",
    "    x_seq = np.zeros((Nmax+1, len(x0)))\n",
    "    x_seq[0] = x\n",
    "    n = 0\n",
    "    \n",
    "    H = np.eye(3)\n",
    "    \n",
    "    while n < Nmax:\n",
    "    \n",
    "        g = grad(x)\n",
    "        \n",
    "        if np.linalg.norm(g) < tol:\n",
    "            return x, x_seq, n\n",
    "        \n",
    "        p = -np.dot(H, g)\n",
    "                \n",
    "        t = wolfe_conditions(x, f, grad, p)\n",
    "        \n",
    "        x1 = x + t * p\n",
    "        \n",
    "        x_seq[n+1] = x1\n",
    "    \n",
    "        s = x1 - x\n",
    "        y = grad(x1) - g\n",
    "        rho = 1 / np.dot(y, s)\n",
    "        I = np.eye(len(x))\n",
    "    \n",
    "        # Compute update for Hessian:\n",
    "        u1 = I - rho * np.outer(s,y)\n",
    "        u2 = I - rho * np.outer(y,s)\n",
    "        \n",
    "        U = np.matmul(H,u2)\n",
    "    \n",
    "        H = np.matmul(u1, U) + rho * np.outer(s, s)\n",
    "        \n",
    "        x = x1\n",
    "    \n",
    "        n +=1\n",
    "        \n",
    "    print(\"Max Iterations Reached\")\n",
    "    return x, x_seq, n"
   ]
  },
  {
   "cell_type": "code",
   "execution_count": 34,
   "id": "882df7c6",
   "metadata": {},
   "outputs": [
    {
     "data": {
      "text/plain": [
       "Text(0, 0.5, 'Log10 of Error')"
      ]
     },
     "execution_count": 34,
     "metadata": {},
     "output_type": "execute_result"
    },
    {
     "data": {
      "image/png": "[encoded data removed]",
      "text/plain": [
       "<Figure size 432x288 with 1 Axes>"
      ]
     },
     "metadata": {
      "needs_background": "light"
     },
     "output_type": "display_data"
    }
   ],
   "source": [
    "bx, bx_seq, bits = BFGS(x0, rosenbrock, grad_rosenbrock_3D, hess_rosenbrock_3D, tol=1e-12)\n",
    "\n",
    "berr = np.sum(np.abs(bx_seq-bx),axis=1);\n",
    "\n",
    "plt.plot(np.arange(bits), np.log10(berr[0:bits]), 'b--', np.log10(err[0:its]), 'r--')\n",
    "plt.legend(['BFGS', 'Newton'])\n",
    "plt.xlabel('Iteration')\n",
    "plt.ylabel('Log10 of Error')"
   ]
  },
  {
   "cell_type": "code",
   "execution_count": 37,
   "id": "8f14c443",
   "metadata": {},
   "outputs": [],
   "source": [
    "def DFP(x0, f, grad, hess, tol=1e-6, Nmax=100):\n",
    "    \n",
    "    x = x0.copy()\n",
    "    x_seq = np.zeros((Nmax+1, len(x0)))\n",
    "    x_seq[0] = x\n",
    "    n = 0\n",
    "    \n",
    "    H = np.eye(3)\n",
    "    \n",
    "    while n < Nmax:\n",
    "    \n",
    "        g = grad(x)\n",
    "        \n",
    "        if np.linalg.norm(g) < tol:\n",
    "            return x, x_seq, n\n",
    "        \n",
    "        p = -np.linalg.solve(H, g)\n",
    "                \n",
    "        t = wolfe_conditions(x, f, grad, p)\n",
    "        \n",
    "        x1 = x + t * p\n",
    "        \n",
    "        x_seq[n+1] = x1\n",
    "    \n",
    "        s = x1 - x\n",
    "        y = grad(x1) - g\n",
    "        rho = 1 / np.dot(y, s)\n",
    "        I = np.eye(len(x))\n",
    "    \n",
    "        # Compute update for Hessian:\n",
    "        d1 = np.outer(y, np.matmul(H, s))\n",
    "        d2 = np.dot(y,s)\n",
    "        \n",
    "        n1 = np.matmul(H, np.matmul(np.outer(y,y), H))\n",
    "        n2 = np.outer(s,s)\n",
    "    \n",
    "        H = H + n1/d1 + n2/d2\n",
    "        \n",
    "        x = x1\n",
    "    \n",
    "        n +=1\n",
    "        \n",
    "    print(\"Max Iterations Reached\")\n",
    "    return x, x_seq, n"
   ]
  },
  {
   "cell_type": "code",
   "execution_count": 56,
   "id": "ad9492fd",
   "metadata": {},
   "outputs": [
    {
     "data": {
      "image/png": "[encoded data removed]",
      "text/plain": [
       "<Figure size 432x288 with 1 Axes>"
      ]
     },
     "metadata": {
      "needs_background": "light"
     },
     "output_type": "display_data"
    }
   ],
   "source": [
    "dx, dx_seq, dits = BFGS(x0, rosenbrock, grad_rosenbrock_3D, hess_rosenbrock_3D, tol=1e-12)\n",
    "\n",
    "derr = np.sum(np.abs(dx_seq-dx),axis=1);\n",
    "\n",
    "plt.plot(np.arange(bits), np.log10(berr[0:bits]), 'g--', np.log10(err[0:its]), 'r--', np.log10(derr[0:dits]), 'C4--')\n",
    "plt.legend(['BFGS', 'Newton', 'DFP'])\n",
    "plt.xlabel('Iteration')\n",
    "plt.ylabel('Log10 of Error')\n",
    "plt.show;\n"
   ]
  },
  {
   "cell_type": "code",
   "execution_count": 55,
   "id": "10b7916d",
   "metadata": {},
   "outputs": [
    {
     "data": {
      "image/png": "[encoded data removed]",
      "text/plain": [
       "<Figure size 432x288 with 1 Axes>"
      ]
     },
     "metadata": {
      "needs_background": "light"
     },
     "output_type": "display_data"
    }
   ],
   "source": [
    "\n",
    "plt.plot(np.arange(bits), np.log10(berr[0:bits]), 'g--', np.log10(derr[0:dits]), 'C4--')\n",
    "plt.legend(['BFGS', 'DFP'])\n",
    "plt.xlabel('Iteration')\n",
    "plt.ylabel('Log10 of Error')\n",
    "plt.show;"
   ]
  },
  {
   "cell_type": "code",
   "execution_count": null,
   "id": "d26b1852",
   "metadata": {},
   "outputs": [],
   "source": []
  }
 ],
 "metadata": {
  "kernelspec": {
   "display_name": "Python 3 (ipykernel)",
   "language": "python",
   "name": "python3"
  },
  "language_info": {
   "codemirror_mode": {
    "name": "ipython",
    "version": 3
   },
   "file_extension": ".py",
   "mimetype": "text/x-python",
   "name": "python",
   "nbconvert_exporter": "python",
   "pygments_lexer": "ipython3",
   "version": "3.9.12"
  }
 },
 "nbformat": 4,
 "nbformat_minor": 5
}
