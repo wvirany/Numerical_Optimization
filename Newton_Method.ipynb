{
 "cells": [
  {
   "cell_type": "markdown",
   "metadata": {},
   "source": [
    "We begin by implementing Newton's method. The test function we are using is the Rosenbrock function in three variables, which is implemented along with functions to evaluate the gradient and hessian of the function."
   ]
  },
  {
   "cell_type": "code",
   "execution_count": 89,
   "metadata": {},
   "outputs": [],
   "source": [
    "# Importing Dependencies\n",
    "import numpy as np\n",
    "from mpl_toolkits.mplot3d import Axes3D\n",
    "import matplotlib.pyplot as plt\n",
    "import math"
   ]
  },
  {
   "cell_type": "code",
   "execution_count": 90,
   "metadata": {},
   "outputs": [
    {
     "name": "stdout",
     "output_type": "stream",
     "text": [
      "0\n",
      "[0. 0. 0.]\n",
      "[[ 802. -400.    0.]\n",
      " [-400. 1002. -400.]\n",
      " [   0. -400.  200.]]\n"
     ]
    }
   ],
   "source": [
    "def test_func(x):\n",
    "    return x[0]**2 + x[1]**2 + x[2]**2\n",
    "\n",
    "def grad_test_func(x):\n",
    "    return np.array([2*x[0], 2*x[1], 2*x[2]])\n",
    "\n",
    "def hess_test_func(x):\n",
    "    return np.array([[2, 0, 0],\n",
    "                     [0, 2, 0],\n",
    "                     [0, 0, 2]])\n",
    "\n",
    "'''\n",
    "Rosenbrock function takes an input vector x and returns\n",
    "the evalutation\n",
    "'''\n",
    "def rosenbrock(x):\n",
    "    N = len(x)\n",
    "    sum = 0\n",
    "    \n",
    "    for i in range(N-1):\n",
    "        sum += 100 * (x[i+1] - x[i]**2)**2 + (1 - x[i])**2\n",
    "        \n",
    "    return sum\n",
    "\n",
    "'''\n",
    "Returns the gradient of the Rosenbrock function in 3 variables at x\n",
    "'''\n",
    "def grad_rosenbrock_3D(x):\n",
    "    grad = np.zeros(3)\n",
    "    grad[0] = -400 * x[0] * (-x[0]**2 + x[1]) + 2 * (x[0] - 1) \n",
    "    grad[1] = -400 * x[1] * (-x[1]**2 + x[2]) + 200 * (x[1] - x[0]**2) + 2 * (x[1] - 1)\n",
    "    grad[2] = 200 * (-x[1]**2 + x[2])\n",
    "    return grad\n",
    "\n",
    "\n",
    "'''\n",
    "Returns the hessian of the Rosenbrock function in 3 variables at x\n",
    "'''\n",
    "def hess_rosenbrock_3D(x):\n",
    "    hess = np.zeros((3,3))\n",
    "    hess[0, 0] = 1200*x[0]**2 - 400*x[1] + 2\n",
    "    hess[0, 1] = -400*x[0]\n",
    "    hess[1, 0] = -400*x[0]\n",
    "    hess[1, 1] = 1200*x[1]**2 - 400*x[2] + 202\n",
    "    hess[1, 2] = -400*x[1]\n",
    "    hess[2, 1] = -400*x[1]\n",
    "    hess[2, 2] = 200\n",
    "    return hess\n",
    "\n",
    "\n",
    "x = [1, 1, 1]\n",
    "print(rosenbrock(x))\n",
    "print(grad_rosenbrock_3D(x))\n",
    "print(hess_rosenbrock_3D(x))"
   ]
  },
  {
   "cell_type": "markdown",
   "metadata": {},
   "source": [
    "As a starting point, we'll use gradient descent:"
   ]
  },
  {
   "cell_type": "code",
   "execution_count": 91,
   "metadata": {},
   "outputs": [],
   "source": [
    "def wolfe_conditions(x, f, grad, p, alpha=1.0, c1=0.25, c2=0.75, max_iters=100):\n",
    "    # initialize variables\n",
    "    t = 1.0\n",
    "    fx = f(x)\n",
    "    gxp = grad(x).dot(p)\n",
    "    \n",
    "    # loop until condition is satisfied or max iterations reached\n",
    "    for i in range(max_iters):\n",
    "        if f(x + t * p) > fx + c1 * t * gxp:\n",
    "            t /= 2.0\n",
    "        elif grad(x + t * p).dot(p) < c2 * gxp:\n",
    "            t *= 2.0\n",
    "        else:\n",
    "            break\n",
    "            \n",
    "    return t"
   ]
  },
  {
   "cell_type": "code",
   "execution_count": 92,
   "metadata": {},
   "outputs": [],
   "source": [
    "'''\n",
    "Gradient Descent\n",
    "    Inputs:\n",
    "    x0 - Initial guess vector\n",
    "    f - Function to be minimized\n",
    "    grad - Evaluates the gradient of function f at x\n",
    "    tol - Arbitrary tolerance for convergence\n",
    "    Nmax - Maximum number of iterations\n",
    "\n",
    "    Returns:\n",
    "    tuple containing sequence of iterates, errors, and \n",
    "'''\n",
    "def gradient_descent(x0, f, grad, tol=1e-6, Nmax=1000):\n",
    "    \n",
    "    x = x0.copy()\n",
    "    x_seq = np.zeros((Nmax+1, len(x0)))\n",
    "    x_seq[0] = x\n",
    "    n = 0\n",
    "    \n",
    "    while n < Nmax:\n",
    "        \n",
    "        g = grad(x)\n",
    "\n",
    "        p = - g/np.linalg.norm(g)\n",
    "        \n",
    "        t = wolfe_conditions(x, f, grad, p)\n",
    "        \n",
    "        x1 = x + t * p\n",
    "        \n",
    "        \n",
    "        x_seq[n+1] = x1\n",
    "        \n",
    "        if np.linalg.norm(x) < tol:\n",
    "            return x, x_seq, n\n",
    "        elif np.linalg.norm(x) > 1e10:\n",
    "            return math.nan, None, None\n",
    "        \n",
    "        x = x1\n",
    "\n",
    "        n += 1\n",
    "        \n",
    "    print(\"Max iterations reached\")\n",
    "    return x, x_seq, n"
   ]
  },
  {
   "cell_type": "markdown",
   "metadata": {},
   "source": [
    "Now, we can implement gradient descent and Newton's method:"
   ]
  },
  {
   "cell_type": "code",
   "execution_count": 93,
   "metadata": {},
   "outputs": [],
   "source": [
    "'''\n",
    "Newton Descent\n",
    "    Inputs:\n",
    "    x0 - Initial guess vector\n",
    "    f - Function to be minimized\n",
    "    grad - Evaluates the gradient of function f at x\n",
    "    hess - Evaluates the hessian of f at x\n",
    "    tol - Arbitrary tolerance for convergence\n",
    "    Nmax - Maximum number of iterations\n",
    "\n",
    "    Returns:\n",
    "    tuple containing sequence of iterates, errors, and \n",
    "'''\n",
    "def newton_descent(x0, f, grad, hess, tol=1e-6, Nmax=100):\n",
    "\n",
    "    x = x0.copy()\n",
    "    x_seq = np.zeros((Nmax+1, len(x0)))\n",
    "    x_seq[0] = x\n",
    "    g_seq = np.zeros((Nmax+1, len(x0)))\n",
    "    n = 0\n",
    "\n",
    "    while n < Nmax:\n",
    "        \n",
    "        g = grad(x)\n",
    "        g_seq[n] = np.linalg.norm(g)\n",
    "        \n",
    "        H = hess(x)\n",
    "        p = -np.linalg.solve(H, g)\n",
    "        \n",
    "        t = wolfe_conditions(x, f, grad, p)\n",
    "        \n",
    "        x1 = x + t*p\n",
    "        \n",
    "        if np.linalg.norm(p) < tol:\n",
    "            return x1, x_seq, g_seq, n\n",
    "        \n",
    "        n += 1\n",
    "        \n",
    "        x_seq[n] = x1\n",
    "        \n",
    "        x = x1\n",
    "        \n",
    "    print(\"Max iterations reached\")\n",
    "    return x, x_seq, g_seq, n"
   ]
  },
  {
   "cell_type": "code",
   "execution_count": 94,
   "metadata": {},
   "outputs": [],
   "source": [
    "# Let's try our test function:\n",
    "x0 = np.array([-1.2, 1, .5])\n",
    "\n",
    "# Using gradient descent:\n",
    "#x, x_seq, g_seq, its = gradient_descent(x0, test_func, grad_test_func)\n",
    "\n",
    "#print(x,\"\\n\", x_seq[:its+1])\n",
    "\n",
    "# Using Newton Descent:\n",
    "x, x_seq, g_seq, its = newton_descent(x0, test_func, grad_test_func, hess_test_func)\n",
    "\n",
    "#print(x,\"\\n\", x_seq[:its+1])"
   ]
  },
  {
   "cell_type": "code",
   "execution_count": 95,
   "metadata": {},
   "outputs": [
    {
     "name": "stdout",
     "output_type": "stream",
     "text": [
      "[1. 1. 1.] \n",
      " [[-1.20000000e+00  1.00000000e+00  5.00000000e-01]\n",
      " [-1.05396963e+00  1.04454085e+00  1.08908171e+00]\n",
      " [-9.39212403e-01  8.70930262e-01  7.28378884e-01]\n",
      " [-8.69131332e-01  7.59593502e-01  5.64586415e-01]\n",
      " [-7.99316974e-01  6.41448209e-01  3.91299557e-01]\n",
      " [-7.02400926e-01  4.94931481e-01  2.23490019e-01]\n",
      " [-6.06485894e-01  3.70274749e-01  1.21564089e-01]\n",
      " [-4.70144728e-01  2.15118025e-01  2.22021558e-02]\n",
      " [-3.56079733e-01  1.26768076e-01  8.26443171e-03]\n",
      " [-1.91036282e-01  1.64351149e-02 -1.58061061e-02]\n",
      " [-3.72730384e-02 -1.12511628e-02 -6.39941308e-04]\n",
      " [ 9.90747778e-02 -1.00527026e-02 -2.83644464e-04]\n",
      " [ 3.17344470e-01  6.23862569e-02 -1.35535780e-03]\n",
      " [ 4.45806089e-01  1.89021455e-01  1.96926371e-02]\n",
      " [ 6.42928137e-01  3.74793304e-01  1.05958841e-01]\n",
      " [ 6.78418879e-01  4.58620432e-01  2.03305713e-01]\n",
      " [ 7.69884783e-01  5.83249763e-01  3.21134322e-01]\n",
      " [ 8.26184571e-01  6.78975163e-01  4.51843920e-01]\n",
      " [ 8.99028840e-01  8.02653418e-01  6.28956199e-01]\n",
      " [ 9.26364310e-01  8.57164333e-01  7.31759253e-01]\n",
      " [ 9.76675885e-01  9.51292218e-01  8.96096824e-01]\n",
      " [ 9.85326547e-01  9.70741512e-01  9.41960809e-01]\n",
      " [ 9.99178674e-01  9.98163757e-01  9.95578907e-01]\n",
      " [ 9.99896790e-01  9.99792699e-01  9.99582788e-01]\n",
      " [ 9.99999957e-01  9.99999903e-01  9.99999762e-01]\n",
      " [ 1.00000000e+00  1.00000000e+00  1.00000000e+00]\n",
      " [ 1.00000000e+00  1.00000000e+00  1.00000000e+00]]\n",
      "[[2.62730584e+02 2.62730584e+02 2.62730584e+02]\n",
      " [3.43603241e+01 3.43603241e+01 3.43603241e+01]\n",
      " [1.28734574e+01 1.28734574e+01 1.28734574e+01]\n",
      " [5.32506549e+00 5.32506549e+00 5.32506549e+00]\n",
      " [6.97444973e+00 6.97444973e+00 6.97444973e+00]\n",
      " [6.31250162e+00 6.31250162e+00 6.31250162e+00]\n",
      " [4.34320731e+00 4.34320731e+00 4.34320731e+00]\n",
      " [6.33049456e+00 6.33049456e+00 6.33049456e+00]\n",
      " [3.41316799e+00 3.41316799e+00 3.41316799e+00]\n",
      " [7.75636539e+00 7.75636539e+00 7.75636539e+00]\n",
      " [5.08763009e+00 5.08763009e+00 5.08763009e+00]\n",
      " [6.08106392e+00 6.08106392e+00 6.08106392e+00]\n",
      " [1.00928501e+01 1.00928501e+01 1.00928501e+01]\n",
      " [4.02714662e+00 4.02714662e+00 4.02714662e+00]\n",
      " [1.21119197e+01 1.21119197e+01 1.21119197e+01]\n",
      " [1.42467224e+00 1.42467224e+00 1.42467224e+00]\n",
      " [4.84655102e+00 4.84655102e+00 4.84655102e+00]\n",
      " [2.31034071e+00 2.31034071e+00 2.31034071e+00]\n",
      " [4.91704217e+00 4.91704217e+00 4.91704217e+00]\n",
      " [8.29420434e-01 8.29420434e-01 8.29420434e-01]\n",
      " [3.41502343e+00 3.41502343e+00 3.41502343e+00]\n",
      " [1.00589023e-01 1.00589023e-01 1.00589023e-01]\n",
      " [3.07914511e-01 3.07914511e-01 3.07914511e-01]\n",
      " [7.23444412e-04 7.23444412e-04 7.23444412e-04]\n",
      " [1.76441488e-05 1.76441488e-05 1.76441488e-05]\n",
      " [2.62150533e-12 2.62150533e-12 2.62150533e-12]]\n"
     ]
    }
   ],
   "source": [
    "# Using gradient descent:\n",
    "#gdx, gdx_seq, its = gradient_descent(x0, rosenbrock, grad_rosenbrock_3D)\n",
    "\n",
    "#print(gdx, gdx_seq[:its])\n",
    "\n",
    "x, x_seq, g_seq, its = newton_descent(x0, rosenbrock, grad_rosenbrock_3D, hess_rosenbrock_3D, tol=1e-12)\n",
    "\n",
    "#Expected root is at (1, 1, 1)\n",
    "print(x,\"\\n\", x_seq[:its+1])\n",
    "print(g_seq[0:its])"
   ]
  },
  {
   "cell_type": "markdown",
   "metadata": {},
   "source": [
    "We see that the gradient descent function diverges away from the root. Now, let's show the order of convergence empirically:"
   ]
  },
  {
   "cell_type": "code",
   "execution_count": 96,
   "metadata": {},
   "outputs": [
    {
     "data": {
      "image/png": "[encoded data removed]",
      "text/plain": [
       "<Figure size 432x288 with 1 Axes>"
      ]
     },
     "metadata": {
      "needs_background": "light"
     },
     "output_type": "display_data"
    }
   ],
   "source": [
    "err = np.sum(np.abs(x_seq-x),axis=1);\n",
    "plt.plot(np.arange(its),np.log10(err[0:its]), 'r--');\n",
    "plt.xlabel('Iteration')\n",
    "plt.ylabel('Log10 of Error')\n",
    "plt.show();"
   ]
  },
  {
   "cell_type": "markdown",
   "metadata": {},
   "source": [
    "#### Lazy Newton:\n",
    "So, Newton worked pretty well. Now let's see how Lazy Newton compares:"
   ]
  },
  {
   "cell_type": "code",
   "execution_count": 97,
   "metadata": {},
   "outputs": [],
   "source": [
    "'''\n",
    "Lazy Newton\n",
    "    Instead of computing the Hessian on each iterate, we only\n",
    "    compute it once and use that at each step.\n",
    "\n",
    "    Inputs:\n",
    "    x0 - Initial guess vector\n",
    "    f - Function to be minimized\n",
    "    grad - Evaluates the gradient of function f at x\n",
    "    hess - Evaluates the hessian of f at x\n",
    "    tol - Arbitrary tolerance for convergence\n",
    "    Nmax - Maximum number of iterations\n",
    "\n",
    "    Returns:\n",
    "    tuple containing sequence of iterates, errors, and \n",
    "'''\n",
    "def lazy_newton(x0, f, grad, hess, tol=1e-6, Nmax=100):\n",
    "    \n",
    "    x = x0.copy()\n",
    "    x_seq = np.zeros((Nmax+1, len(x0)))\n",
    "    x_seq[0] = x\n",
    "    n = 0\n",
    "    \n",
    "    H = hess(x) # Computing the initial Hessian\n",
    "    \n",
    "    while n < Nmax:\n",
    "        \n",
    "        g = grad(x)\n",
    "        \n",
    "        # For Slacker Newton, update Hessian every few iterations\n",
    "#         if n % 4 == 0:\n",
    "#             H = hess(x)\n",
    "        \n",
    "        p = -np.linalg.solve(H, g)\n",
    "        \n",
    "        t = wolfe_conditions(x, f, grad, p)\n",
    "        \n",
    "        x1 = x + t * p\n",
    "        \n",
    "        x_seq[n+1] = x1 \n",
    "        \n",
    "        if np.linalg.norm(p) < tol:\n",
    "            return x, x_seq, n\n",
    "        \n",
    "        n += 1\n",
    "        \n",
    "        x = x1\n",
    "        \n",
    "    print(\"Max iterations reached\")\n",
    "    return x, x_seq, n"
   ]
  },
  {
   "cell_type": "code",
   "execution_count": 98,
   "metadata": {},
   "outputs": [
    {
     "name": "stdout",
     "output_type": "stream",
     "text": [
      "Max iterations reached\n",
      "[1. 1. 1.]\n"
     ]
    },
    {
     "data": {
      "text/plain": [
       "Text(0, 0.5, 'Log10 of Error')"
      ]
     },
     "execution_count": 98,
     "metadata": {},
     "output_type": "execute_result"
    },
    {
     "data": {
      "image/png": "[encoded data removed]",
      "text/plain": [
       "<Figure size 432x288 with 1 Axes>"
      ]
     },
     "metadata": {
      "needs_background": "light"
     },
     "output_type": "display_data"
    }
   ],
   "source": [
    "lx, lx_seq, lits = lazy_newton(x0, rosenbrock, grad_rosenbrock_3D, hess_rosenbrock_3D)\n",
    "\n",
    "print(x)\n",
    "\n",
    "lerr = np.sum(np.abs(lx_seq-x),axis=1);\n",
    "plt.plot(np.arange(100), np.log10(lerr[0:100]), 'y--', np.log10(err[0:its]), 'r--')\n",
    "plt.legend(['Lazy Newton', 'Newton'])\n",
    "plt.xlabel('Iteration')\n",
    "plt.ylabel('Log10 of Error')\n",
    "#plt.show();"
   ]
  },
  {
   "cell_type": "code",
   "execution_count": 99,
   "metadata": {},
   "outputs": [],
   "source": [
    "def slacker_newton(x0, f, grad, hess, tol=1e-12, Nmax=100):\n",
    "    \n",
    "    x = x0.copy()\n",
    "    x_seq = np.zeros((Nmax+1, len(x0)))\n",
    "    x_seq[0] = x\n",
    "    n = 1\n",
    "    \n",
    "    H = hess(x) # Computing the initial Hessian\n",
    "    h_count = 0\n",
    "    \n",
    "    while n < Nmax:\n",
    "        \n",
    "        g = grad(x)\n",
    "        \n",
    "        # For Slacker Newton, update Hessian based on norm condition:\n",
    "        \n",
    "        if n % 5 == 0:\n",
    "            H = hess(x)\n",
    "            h_count += 1\n",
    "        \n",
    "        p = -np.linalg.solve(H, g)\n",
    "        \n",
    "        t = wolfe_conditions(x, f, grad, p)\n",
    "        \n",
    "        x1 = x + t * p\n",
    "        \n",
    "        x_seq[n] = x1 \n",
    "        \n",
    "        if np.linalg.norm(g) < tol:\n",
    "            return x, x_seq, n, h_count\n",
    "        \n",
    "        n += 1\n",
    "        \n",
    "        x = x1\n",
    "        \n",
    "    print(\"Max iterations reached\")\n",
    "    return x, x_seq, n, h_count"
   ]
  },
  {
   "cell_type": "code",
   "execution_count": 100,
   "metadata": {},
   "outputs": [
    {
     "name": "stdout",
     "output_type": "stream",
     "text": [
      "15\n"
     ]
    },
    {
     "data": {
      "text/plain": [
       "Text(0, 0.5, 'Log10 of Error')"
      ]
     },
     "execution_count": 100,
     "metadata": {},
     "output_type": "execute_result"
    },
    {
     "data": {
      "image/png": "[encoded data removed]",
      "text/plain": [
       "<Figure size 432x288 with 1 Axes>"
      ]
     },
     "metadata": {
      "needs_background": "light"
     },
     "output_type": "display_data"
    }
   ],
   "source": [
    "slx, slx_seq, sl_its, h_count = slacker_newton(x0, rosenbrock, grad_rosenbrock_3D, hess_rosenbrock_3D, tol=1e-12)\n",
    "\n",
    "print(h_count)\n",
    "\n",
    "slerr = np.sum(np.abs(slx_seq-x),axis=1);\n",
    "plt.plot(np.arange(100), np.log10(lerr[0:100]), 'y--', np.log10(err[0:its]), 'r--', np.log10(slerr[0:sl_its]), 'C2--')\n",
    "plt.legend(['Lazy Newton', 'Newton', 'Slacker Newton'])\n",
    "plt.xlabel('Iteration')\n",
    "plt.ylabel('Log10 of Error')"
   ]
  },
  {
   "cell_type": "markdown",
   "metadata": {},
   "source": [
    "Time to implement Broyden."
   ]
  },
  {
   "cell_type": "code",
   "execution_count": 101,
   "metadata": {},
   "outputs": [],
   "source": [
    "def BFGS(x0, f, grad, hess, tol=1e-6, Nmax=100):\n",
    "    \n",
    "    x = x0.copy()\n",
    "    x_seq = np.zeros((Nmax+1, len(x0)))\n",
    "    x_seq[0] = x\n",
    "    n = 0\n",
    "    print(x)\n",
    "    H = np.eye(3)\n",
    "    \n",
    "    while n < Nmax:\n",
    "    \n",
    "        g = grad(x)\n",
    "        \n",
    "        if np.linalg.norm(g) < tol:\n",
    "            return x, x_seq, n\n",
    "        \n",
    "        p = -np.dot(H, g)\n",
    "                \n",
    "        t = wolfe_conditions(x, f, grad, p)\n",
    "        \n",
    "        x1 = x + t * p\n",
    "        \n",
    "        x_seq[n+1] = x1\n",
    "    \n",
    "        s = x1 - x\n",
    "        y = grad(x1) - g\n",
    "        rho = 1 / np.dot(y, s)\n",
    "        I = np.eye(len(x))\n",
    "    \n",
    "        # Compute update for Hessian:\n",
    "        u1 = I - rho * np.outer(s,y)\n",
    "        u2 = I - rho * np.outer(y,s)\n",
    "        \n",
    "        U = np.matmul(H,u2)\n",
    "    \n",
    "        H = np.matmul(u1, U) + rho * np.outer(s, s)\n",
    "        \n",
    "        x = x1\n",
    "    \n",
    "        n +=1\n",
    "        \n",
    "    print(\"Max Iterations Reached\")\n",
    "    return x, x_seq, n\n"
   ]
  },
  {
   "cell_type": "code",
   "execution_count": 102,
   "metadata": {},
   "outputs": [
    {
     "name": "stdout",
     "output_type": "stream",
     "text": [
      "[-1.2  1.   0.5]\n"
     ]
    },
    {
     "data": {
      "text/plain": [
       "Text(0, 0.5, 'Log10 of Error')"
      ]
     },
     "execution_count": 102,
     "metadata": {},
     "output_type": "execute_result"
    },
    {
     "data": {
      "image/png": "[encoded data removed]",
      "text/plain": [
       "<Figure size 432x288 with 1 Axes>"
      ]
     },
     "metadata": {
      "needs_background": "light"
     },
     "output_type": "display_data"
    }
   ],
   "source": [
    "bx, bx_seq, bits = BFGS(x0, rosenbrock, grad_rosenbrock_3D, hess_rosenbrock_3D, tol=1e-12)\n",
    "\n",
    "berr = np.sum(np.abs(bx_seq-bx),axis=1);\n",
    "\n",
    "plt.plot(np.arange(bits), np.log10(berr[0:bits]), 'b--', np.log10(err[0:its]), 'r--')\n",
    "plt.legend(['BFGS', 'Newton'])\n",
    "plt.xlabel('Iteration')\n",
    "plt.ylabel('Log10 of Error')"
   ]
  },
  {
   "cell_type": "code",
   "execution_count": 103,
   "metadata": {},
   "outputs": [],
   "source": [
    "def DFP(x0, f, grad, hess, tol=1e-6, Nmax=100):\n",
    "    x = x0.copy()\n",
    "    \n",
    "    x_seq = np.zeros((Nmax+1, len(x0)))\n",
    "    x_seq[0] = x\n",
    "    n = 0\n",
    "    \n",
    "    H = np.eye(3)\n",
    "    \n",
    "    while n < Nmax:\n",
    "    \n",
    "        g = grad(x)\n",
    "        print (g)\n",
    "        if np.linalg.norm(g) < tol:\n",
    "            return x, x_seq, n\n",
    "        \n",
    "        p = -np.linalg.solve(H, g)\n",
    "                \n",
    "        t = wolfe_conditions(x, f, grad, p)\n",
    "        \n",
    "        x1 = x + t * p\n",
    "        \n",
    "        x_seq[n+1] = x1\n",
    "    \n",
    "        s = x1 - x\n",
    "        y = grad(x1) - g\n",
    "        rho = 1 / np.dot(y, s)\n",
    "        I = np.eye(len(x))\n",
    "    \n",
    "        # Compute update for Hessian:\n",
    "        d1 = np.outer(y, np.matmul(H, s))\n",
    "        d2 = np.dot(y,s)\n",
    "        \n",
    "        n1 = np.matmul(H, np.matmul(np.outer(y,y), H))\n",
    "        n2 = np.outer(s,s)\n",
    "    \n",
    "        H = H + n1/d1 + n2/d2\n",
    "        \n",
    "        x = x1\n",
    "    \n",
    "        n +=1\n",
    "        \n",
    "    print(\"Max Iterations Reached\")\n",
    "    return x, x_seq, n\n"
   ]
  },
  {
   "cell_type": "code",
   "execution_count": 104,
   "metadata": {},
   "outputs": [
    {
     "name": "stdout",
     "output_type": "stream",
     "text": [
      "[-1.2  1.   0.5]\n"
     ]
    },
    {
     "data": {
      "image/png": "[encoded data removed]",
      "text/plain": [
       "<Figure size 432x288 with 1 Axes>"
      ]
     },
     "metadata": {
      "needs_background": "light"
     },
     "output_type": "display_data"
    }
   ],
   "source": [
    "dx, dx_seq, dits = BFGS(x0, rosenbrock, grad_rosenbrock_3D, hess_rosenbrock_3D, tol=1e-12)\n",
    "\n",
    "derr = np.sum(np.abs(dx_seq-dx),axis=1);\n",
    "\n",
    "plt.plot(np.arange(bits), np.log10(berr[0:bits]), 'g--', np.log10(err[0:its]), 'r--', np.log10(derr[0:dits]), 'C4--')\n",
    "plt.legend(['BFGS', 'Newton', 'DFP'])\n",
    "plt.xlabel('Iteration')\n",
    "plt.ylabel('Log10 of Error')\n",
    "plt.show;\n"
   ]
  },
  {
   "cell_type": "code",
   "execution_count": 105,
   "metadata": {},
   "outputs": [
    {
     "data": {
      "image/png": "[encoded data removed]",
      "text/plain": [
       "<Figure size 432x288 with 1 Axes>"
      ]
     },
     "metadata": {
      "needs_background": "light"
     },
     "output_type": "display_data"
    }
   ],
   "source": [
    "\n",
    "plt.plot(np.arange(bits), np.log10(berr[0:bits]), 'g--', np.log10(derr[0:dits]), 'C4--')\n",
    "plt.legend(['BFGS', 'DFP'])\n",
    "plt.xlabel('Iteration')\n",
    "plt.ylabel('Log10 of Error')\n",
    "plt.show;"
   ]
  },
  {
   "cell_type": "code",
   "execution_count": null,
   "metadata": {},
   "outputs": [],
   "source": []
  },
  {
   "cell_type": "code",
   "execution_count": 106,
   "metadata": {},
   "outputs": [],
   "source": [
    "import math\n",
    "from numpy import *\n",
    "import sys\n",
    "import sympy as sy\n",
    "# Line search\n",
    "\n",
    "def lineSearchMethod(f, x, alpha, p):\n",
    "    result = np.dot (f(x+alpha*p),p) == 0\n",
    "    return result\n",
    "\n",
    "import numpy as np\n",
    "\n",
    "def is_pos_def(A):\n",
    "    try:\n",
    "        np.linalg.cholesky(A)\n",
    "        return True\n",
    "    except np.linalg.LinAlgError:\n",
    "        return False\n",
    "\n",
    "def SR1_update(B, s, y):\n",
    "    # Compute the denominator of the update\n",
    "    denominator = np.dot(y - np.dot(B, s), s)\n",
    "    # Check if the denominator is close to zero, return the original B\n",
    "    if abs(denominator) < 1e-8:\n",
    "        return B\n",
    "    # Compute the numerator of the update\n",
    "    numerator = np.outer(y - np.dot(B, s), y - np.dot(B, s))\n",
    "    # Compute the SR1 update for B\n",
    "    B_new = B + numerator / denominator\n",
    "    # Check if the updated matrix is still positive definite, return the original B\n",
    "    if not is_pos_def(B_new):\n",
    "        return B\n",
    "    return B_new\n",
    "\n",
    "def SR1(f, g, H, x0, maxiter=100000, tol=1e-6):\n",
    "    x_seq = np.zeros((maxiter+1, len(x0)))\n",
    "    n=np.shape(x0)[0]\n",
    "    rho=0.55\n",
    "    iter=0\n",
    "    Bk=np.eye(3)\n",
    "    while iter< maxiter:\n",
    "        \n",
    "        gk = g(x0)\n",
    "        \n",
    "        if np.linalg.norm(gk) < tol:\n",
    "            break\n",
    "        dk=-1*np.linalg.solve(Bk, gk)\n",
    "        m=0\n",
    "        mk=0\n",
    "        \n",
    "        p = -np.dot(Bk, gk)\n",
    "                \n",
    "        t = wolfe_conditions(x0, f, g, p)\n",
    "        \n",
    "        x = x0 + t * p\n",
    "        \n",
    "        x_seq[iter+1] = x\n",
    "        sk = x - x0\n",
    "        yk = g(x) - gk\n",
    "        if np.dot(sk,yk) > 0:\n",
    "            Bk = SR1_update(Bk, sk, yk)\n",
    "        iter+=1\n",
    "        \n",
    "        x0 = x\n",
    "        \n",
    "    return x0, x_seq, iter\n",
    "\n"
   ]
  },
  {
   "cell_type": "code",
   "execution_count": 107,
   "metadata": {},
   "outputs": [
    {
     "data": {
      "image/png": "[encoded data removed]",
      "text/plain": [
       "<Figure size 432x288 with 1 Axes>"
      ]
     },
     "metadata": {
      "needs_background": "light"
     },
     "output_type": "display_data"
    }
   ],
   "source": [
    "fx, x_seq, fits = SR1(rosenbrock, grad_rosenbrock_3D, hess_rosenbrock_3D, x0)\n",
    "\n",
    "x_err = np.sum(np.abs(x_seq - np.array([1,1,1])), axis=1)\n",
    "\n",
    "plt.plot(np.arange(fits), np.log10(x_err[1:]), 'g--')\n",
    "plt.xlabel('Iteration')\n",
    "plt.ylabel('Log10 of Error')\n",
    "plt.xlim(35810, 35815)\n",
    "plt.show()\n"
   ]
  },
  {
   "cell_type": "code",
   "execution_count": 108,
   "metadata": {},
   "outputs": [
    {
     "data": {
      "image/png": "[encoded data removed]",
      "text/plain": [
       "<Figure size 432x288 with 1 Axes>"
      ]
     },
     "metadata": {
      "needs_background": "light"
     },
     "output_type": "display_data"
    }
   ],
   "source": [
    "fx, x_seq, fits = SR1(rosenbrock, grad_rosenbrock_3D, hess_rosenbrock_3D, x0)\n",
    "\n",
    "x_err = np.sum(np.abs(x_seq - np.array([1,1,1])), axis=1)\n",
    "\n",
    "plt.plot(np.arange(fits), np.log10(x_err[1:]), 'g--')\n",
    "plt.xlabel('Iteration')\n",
    "plt.ylabel('Log10 of Error')\n",
    "plt.show()"
   ]
  },
  {
   "cell_type": "code",
   "execution_count": null,
   "metadata": {},
   "outputs": [],
   "source": []
  },
  {
   "cell_type": "code",
   "execution_count": 113,
   "metadata": {},
   "outputs": [],
   "source": [
    "from scipy.optimize import minimize as opt\n",
    "def min_Prob(s0, Bk, grad):\n",
    "    return np.dot(grad.T, s0)-0.5*np.dot(np.dot(np.dot(s0.T,Bk),s0))\n",
    "def SR1_TR(f, g, H, x0, maxiter=100000, tol=1e-12):\n",
    "    k=0\n",
    "    Bk = np.eye(3)\n",
    "    trust_radi = 0.32\n",
    "    eta = 0.5*10**-3\n",
    "    r=.4\n",
    "    x_seq = np.zeros((maxiter+1, len(x0)))\n",
    "    while k < maxiter:\n",
    "        \n",
    "        gk = g(x0)\n",
    "        \n",
    "        if np.linalg.norm(gk) < tol:\n",
    "            break\n",
    "        \n",
    "        if np.dot(np.dot(gk,Bk), gk) <=0:\n",
    "            sk = -((trust_radi/np.linalg.norm(gk))*gk)\n",
    "        elif ((np.linalg.norm(gk)**3)/(trust_radi*np.dot(np.dot(gk,Bk), gk))) < 1 :\n",
    "              sk = -((trust_radi/np.linalg.norm(gk))*gk)*(np.linalg.norm(gk)**3)/(trust_radi*np.dot(np.dot(gk,Bk), gk))\n",
    "        else:\n",
    "            sk = -((trust_radi/np.linalg.norm(gk))*gk)\n",
    "        yk=g(x0+sk)-gk\n",
    "        ared = f(x0)-f(x0+sk)\n",
    "        pred = -(np.dot(g(x0).T, sk)+0.5*np.dot(np.dot(sk,Bk),sk))\n",
    "        \n",
    "        if abs(ared/pred) > eta:\n",
    "            \n",
    "            x=x0+sk\n",
    "        else:\n",
    "            \n",
    "            x = x0\n",
    "        if abs(ared/pred) > 0.75:\n",
    "            if np.linalg.norm(sk) > 0.8 * trust_radi:\n",
    "                trust_radi = 2*trust_radi\n",
    "        elif 0.1 <= abs(ared/pred) and abs(ared/pred) <=0.75:\n",
    "            trust_radi = trust_radi\n",
    "        else:\n",
    "            trust_radi = 0.5*trust_radi\n",
    "        \n",
    "        if abs(np.dot(sk,(yk-np.dot(Bk,sk)))) >= r*np.linalg.norm(sk)*np.linalg.norm(yk-np.dot(Bk,sk)):\n",
    "            Bk = SR1_update(Bk, sk, yk)\n",
    "            \n",
    "        k += 1\n",
    "        x0 = x\n",
    "        x_seq[k] = x\n",
    "        \n",
    "    return x0, x_seq, k\n",
    "\n"
   ]
  },
  {
   "cell_type": "code",
   "execution_count": 114,
   "metadata": {},
   "outputs": [
    {
     "data": {
      "image/png": "[encoded data removed]",
      "text/plain": [
       "<Figure size 432x288 with 1 Axes>"
      ]
     },
     "metadata": {
      "needs_background": "light"
     },
     "output_type": "display_data"
    }
   ],
   "source": [
    "fx, x_seq, fits = SR1_TR(rosenbrock, grad_rosenbrock_3D, hess_rosenbrock_3D, x0)\n",
    "x_err = np.sum(np.abs(x_seq - np.array([1,1,1])), axis = 1)\n",
    "\n",
    "plt.plot(np.arange(fits), np.log10(x_err[0:fits]), 'g--')\n",
    "plt.xlabel('Iteration')\n",
    "plt.ylabel('Log10 of Error')\n",
    "plt.show()"
   ]
  },
  {
   "cell_type": "code",
   "execution_count": null,
   "metadata": {},
   "outputs": [],
   "source": []
  }
 ],
 "metadata": {
  "kernelspec": {
   "display_name": "Python 3",
   "language": "python",
   "name": "python3"
  },
  "language_info": {
   "codemirror_mode": {
    "name": "ipython",
    "version": 3
   },
   "file_extension": ".py",
   "mimetype": "text/x-python",
   "name": "python",
   "nbconvert_exporter": "python",
   "pygments_lexer": "ipython3",
   "version": "3.8.3"
  }
 },
 "nbformat": 4,
 "nbformat_minor": 5
}
